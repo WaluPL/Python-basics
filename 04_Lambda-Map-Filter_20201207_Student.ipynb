{
 "cells": [
  {
   "cell_type": "markdown",
   "metadata": {},
   "source": [
    "# Lambda Expressions, Map, and Filter\n",
    "\n",
    "### map() function \n",
    "* expects a **function name** (without parameter values) and some sort of iterable (list, tuple etc.)\n",
    "* returns a list of the results after applying the same **function** to each item of a given iterable\n",
    "\n",
    "### filter() function\n",
    "* filters the given sequence with the help of a function that tests each element in the sequence to be true or not.\n",
    "* constructs an iterator from elements of an iterable for which a function returns true.\n",
    "\n",
    "### lambda function \n",
    "* also known as anonymous functions,\n",
    "    * small, \n",
    "    * restricted,\n",
    "    * do not need a name (i.e., an identifier),\n",
    "    * first introduced to the field of mathematics by Alonzo Church in the 1930s.\n",
    "    \n",
    "* One of Pythons most useful tools, \n",
    "* allow us to create \"anonymous, ad-hoc\" functions, without needing to properly define a function using def,\n",
    "* simply type the result as an expression instead of explicitly returning it.  \n",
    "\n",
    "\n",
    "* __lambda's body can take any number of arguments, but can only have one expression.__  \n",
    "\n",
    "\n",
    "\n",
    "* Works exactly the same as created and assigned by defs. \n",
    "* Not every function can be translated into a lambda expression."
   ]
  },
  {
   "cell_type": "markdown",
   "metadata": {},
   "source": [
    "---\n",
    "## map function\n",
    "* expects a **function name** (without parameter values) and some sort of iterable (list, tuple etc.)\n",
    "* returns a list of the results after applying the same **function** to each item of a given iterable "
   ]
  },
  {
   "cell_type": "code",
   "execution_count": null,
   "metadata": {},
   "outputs": [],
   "source": [
    "# Use SHIFT-TAB to check out the documentation string\n",
    "# -- it expects a function and some sort of iterable\n",
    "map"
   ]
  },
  {
   "cell_type": "code",
   "execution_count": 11,
   "metadata": {},
   "outputs": [
    {
     "name": "stdout",
     "output_type": "stream",
     "text": [
      "100\n"
     ]
    }
   ],
   "source": [
    "# Create a simply function\n",
    "def square(num):\n",
    "    return num**2\n",
    "\n",
    "print(square(10))"
   ]
  },
  {
   "cell_type": "code",
   "execution_count": 16,
   "metadata": {},
   "outputs": [],
   "source": [
    "# Create a list of numbers\n",
    "\n",
    "my_nums = [1,2,3,4,5]"
   ]
  },
  {
   "cell_type": "code",
   "execution_count": 22,
   "metadata": {},
   "outputs": [
    {
     "name": "stdout",
     "output_type": "stream",
     "text": [
      "1\n",
      "4\n",
      "9\n",
      "16\n",
      "25\n"
     ]
    }
   ],
   "source": [
    "for i in map(square, my_nums):\n",
    "    print(i)"
   ]
  },
  {
   "cell_type": "markdown",
   "metadata": {},
   "source": [
    "### To get the results:\n",
    "* cast to a list\n",
    "* iterate through map() "
   ]
  },
  {
   "cell_type": "code",
   "execution_count": null,
   "metadata": {},
   "outputs": [],
   "source": []
  },
  {
   "cell_type": "code",
   "execution_count": null,
   "metadata": {},
   "outputs": [],
   "source": []
  },
  {
   "cell_type": "markdown",
   "metadata": {},
   "source": [
    "### Use slightly more complex function  \n",
    "Write a function `pig_latin('word')` which will recognize the first letter of a word.\n",
    "1. If the first letter is not a vowel, it is to be carried over to the end of the word.\n",
    "2. The ending 'ay' should be added after the last letter of the word.  \n",
    "Examples:\n",
    "* `pig_latin('Zuza') => 'uzaZay'`\n",
    "* `pig_latin('Ala') => 'Alaay'`"
   ]
  },
  {
   "cell_type": "code",
   "execution_count": 32,
   "metadata": {},
   "outputs": [
    {
     "name": "stdout",
     "output_type": "stream",
     "text": [
      "uzazay\n",
      "alaay\n"
     ]
    }
   ],
   "source": [
    "my_names=['zuza', 'ala']\n",
    "def pig_latin(name):\n",
    "    if (name[0] in(\"a\",\"e\",\"i\",\"o\",\"u\",\"e\")):\n",
    "        return name+\"ay\"\n",
    "    else:\n",
    "        return name[1:]+name[0]+\"ay\"\n",
    "for i in map(pig_latin, my_names):\n",
    "    print(i)\n",
    "                "
   ]
  },
  {
   "cell_type": "code",
   "execution_count": null,
   "metadata": {},
   "outputs": [],
   "source": []
  },
  {
   "cell_type": "code",
   "execution_count": null,
   "metadata": {},
   "outputs": [],
   "source": []
  },
  {
   "cell_type": "markdown",
   "metadata": {},
   "source": [
    "---\n",
    "## filter function\n",
    "* filters the given sequence with the help of a function that tests each element in the sequence to be true or not.\n",
    "* constructs an iterator from elements of an iterable for which a function returns true."
   ]
  },
  {
   "cell_type": "code",
   "execution_count": null,
   "metadata": {},
   "outputs": [],
   "source": [
    "# Create a filter function\n"
   ]
  },
  {
   "cell_type": "code",
   "execution_count": 37,
   "metadata": {},
   "outputs": [
    {
     "name": "stdout",
     "output_type": "stream",
     "text": [
      "2\n",
      "4\n",
      "6\n",
      "8\n",
      "10\n"
     ]
    }
   ],
   "source": [
    "my_list=[1,2,3,4,5,6,7,8,9,10]\n",
    "def test(element):\n",
    "    return element%2==0\n",
    "\n",
    "for i in filter(test, my_list):\n",
    "    print(i)\n"
   ]
  },
  {
   "cell_type": "code",
   "execution_count": null,
   "metadata": {},
   "outputs": [],
   "source": []
  },
  {
   "cell_type": "markdown",
   "metadata": {},
   "source": [
    "### To get the results:\n",
    "* cast to a list\n",
    "* iterate through filter() "
   ]
  },
  {
   "cell_type": "code",
   "execution_count": null,
   "metadata": {},
   "outputs": [],
   "source": []
  },
  {
   "cell_type": "code",
   "execution_count": null,
   "metadata": {},
   "outputs": [],
   "source": []
  },
  {
   "cell_type": "markdown",
   "metadata": {
    "collapsed": true
   },
   "source": [
    "---\n",
    "## lambda function\n",
    "\n",
    "* also known as anonymous functions,\n",
    "    * small, \n",
    "    * restricted,\n",
    "    * do not need a name (i.e., an identifier),\n",
    "    * first introduced to the field of mathematics by Alonzo Church in the 1930s.\n",
    "    \n",
    "* One of Pythons most useful tools, \n",
    "* allow us to create \"anonymous, ad-hoc\" functions, without needing to properly define a function using def,\n",
    "* simply type the result as an expression instead of explicitly returning it.  \n",
    "\n",
    "\n",
    "* __lambda's body can take any number of arguments, but can only have one expression.__  \n",
    "   \n",
    "   \n",
    "* Works exactly the same as created and assigned by defs. \n",
    "* Not every function can be translated into a lambda expression. "
   ]
  },
  {
   "cell_type": "markdown",
   "metadata": {},
   "source": [
    "#### Lets slowly break down a lambda expression by deconstructing a function:"
   ]
  },
  {
   "cell_type": "code",
   "execution_count": null,
   "metadata": {},
   "outputs": [],
   "source": [
    "# Python named function\n",
    "def square(num):\n",
    "    return num**2"
   ]
  },
  {
   "cell_type": "code",
   "execution_count": 39,
   "metadata": {},
   "outputs": [
    {
     "data": {
      "text/plain": [
       "4"
      ]
     },
     "execution_count": 39,
     "metadata": {},
     "output_type": "execute_result"
    }
   ],
   "source": [
    "square(2)"
   ]
  },
  {
   "cell_type": "markdown",
   "metadata": {},
   "source": [
    "* Write this all on one line:"
   ]
  },
  {
   "cell_type": "code",
   "execution_count": 41,
   "metadata": {},
   "outputs": [],
   "source": [
    "def square(num): return num**3"
   ]
  },
  {
   "cell_type": "code",
   "execution_count": 42,
   "metadata": {},
   "outputs": [
    {
     "data": {
      "text/plain": [
       "16"
      ]
     },
     "execution_count": 42,
     "metadata": {},
     "output_type": "execute_result"
    }
   ],
   "source": [
    "x= lambda a: 2*a\n",
    "x(square(2))"
   ]
  },
  {
   "cell_type": "markdown",
   "metadata": {},
   "source": [
    "* This is the form a function that a lambda expression intends to replicate. \n",
    "* A lambda expression can then be written as:"
   ]
  },
  {
   "cell_type": "code",
   "execution_count": null,
   "metadata": {},
   "outputs": [],
   "source": []
  },
  {
   "cell_type": "markdown",
   "metadata": {},
   "source": [
    "* The name is assigned **ONLY** for demonstration putrposes!"
   ]
  },
  {
   "cell_type": "code",
   "execution_count": null,
   "metadata": {},
   "outputs": [],
   "source": []
  },
  {
   "cell_type": "code",
   "execution_count": null,
   "metadata": {},
   "outputs": [],
   "source": []
  },
  {
   "cell_type": "markdown",
   "metadata": {},
   "source": [
    "* Many function calls (like map and filter) need a function passed in.\n",
    "* Those functions are often needed once, so instead of formally defining them, just use the lambda expression."
   ]
  },
  {
   "cell_type": "markdown",
   "metadata": {},
   "source": [
    "* Use lambda expression to square a list of numbers"
   ]
  },
  {
   "cell_type": "code",
   "execution_count": null,
   "metadata": {},
   "outputs": [],
   "source": []
  },
  {
   "cell_type": "markdown",
   "metadata": {},
   "source": [
    "* Use lambda expression to filter even numbers"
   ]
  },
  {
   "cell_type": "code",
   "execution_count": null,
   "metadata": {},
   "outputs": [],
   "source": []
  },
  {
   "cell_type": "markdown",
   "metadata": {},
   "source": [
    "* Lambda expression for grabbing the first character of a string: **"
   ]
  },
  {
   "cell_type": "code",
   "execution_count": null,
   "metadata": {},
   "outputs": [],
   "source": []
  },
  {
   "cell_type": "code",
   "execution_count": null,
   "metadata": {},
   "outputs": [],
   "source": []
  },
  {
   "cell_type": "markdown",
   "metadata": {},
   "source": [
    "* Lambda expression for reversing a string:"
   ]
  },
  {
   "cell_type": "code",
   "execution_count": null,
   "metadata": {},
   "outputs": [],
   "source": []
  },
  {
   "cell_type": "code",
   "execution_count": null,
   "metadata": {},
   "outputs": [],
   "source": []
  },
  {
   "cell_type": "markdown",
   "metadata": {},
   "source": [
    "* Lambda expression having multiple arguments."
   ]
  },
  {
   "cell_type": "code",
   "execution_count": null,
   "metadata": {},
   "outputs": [],
   "source": []
  },
  {
   "cell_type": "code",
   "execution_count": null,
   "metadata": {},
   "outputs": [],
   "source": []
  }
 ],
 "metadata": {
  "kernelspec": {
   "display_name": "Python 3",
   "language": "python",
   "name": "python3"
  },
  "language_info": {
   "codemirror_mode": {
    "name": "ipython",
    "version": 3
   },
   "file_extension": ".py",
   "mimetype": "text/x-python",
   "name": "python",
   "nbconvert_exporter": "python",
   "pygments_lexer": "ipython3",
   "version": "3.8.3"
  }
 },
 "nbformat": 4,
 "nbformat_minor": 2
}
